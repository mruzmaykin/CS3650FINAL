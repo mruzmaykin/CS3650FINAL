{
 "cells": [
  {
   "cell_type": "code",
   "execution_count": 1,
   "metadata": {},
   "outputs": [],
   "source": [
    "from qiskit import QuantumRegister, ClassicalRegister, QuantumCircuit, execute\n",
    "from qiskit import compile, Aer\n",
    "from qiskit import IBMQ\n",
    "from qiskit.providers.ibmq import least_busy\n",
    "from qiskit.visualization import plot_histogram\n",
    "\n"
   ]
  },
  {
   "cell_type": "code",
   "execution_count": 2,
   "metadata": {},
   "outputs": [],
   "source": [
    "IBMQ.load_accounts()\n",
    "backend = least_busy(IBMQ.backends(simulator=False))\n",
    "q = QuantumRegister(2) \n",
    "c = ClassicalRegister(2) "
   ]
  },
  {
   "cell_type": "code",
   "execution_count": 3,
   "metadata": {},
   "outputs": [
    {
     "data": {
      "text/plain": [
       "<qiskit.circuit.instructionset.InstructionSet at 0x7f4455537208>"
      ]
     },
     "execution_count": 3,
     "metadata": {},
     "output_type": "execute_result"
    }
   ],
   "source": [
    "qc=QuantumCircuit(q,c)\n",
    "# Start with: {0,0}\n",
    "qc.x(q[0])\n",
    "# {0,1}\n",
    "\n",
    "#qc.measure(q,c)\n",
    "\n",
    "qc.cx(q[0],q[1])\n",
    "qc.h(q)\n",
    "qc.cx(q[0],q[1])\n",
    "qc.h(q)\n",
    "qc.cx(q[0],q[1])\n",
    "\n",
    "qc.measure(q,c)\n",
    "# Ends with: {1,0}"
   ]
  },
  {
   "cell_type": "code",
   "execution_count": null,
   "metadata": {},
   "outputs": [],
   "source": [
    "\n",
    "# compile and execute the quantum program in the backend\n",
    "result = execute(qc, backend = backend,shots=1024).result()\n",
    "print(\"The least busy device:\",backend.name())\n",
    "print(qc)\n",
    "#counts = marginal_counts(result.get_counts(qc), [0, 1])\n",
    "counts = result.get_counts(qc)\n",
    "print(counts)\n"
   ]
  },
  {
   "cell_type": "code",
   "execution_count": null,
   "metadata": {},
   "outputs": [],
   "source": []
  },
  {
   "cell_type": "code",
   "execution_count": null,
   "metadata": {},
   "outputs": [],
   "source": []
  },
  {
   "cell_type": "code",
   "execution_count": null,
   "metadata": {},
   "outputs": [],
   "source": []
  }
 ],
 "metadata": {
  "kernelspec": {
   "display_name": "Python (Qiskitenv)",
   "language": "python",
   "name": "qiskitenv"
  },
  "language_info": {
   "codemirror_mode": {
    "name": "ipython",
    "version": 3
   },
   "file_extension": ".py",
   "mimetype": "text/x-python",
   "name": "python",
   "nbconvert_exporter": "python",
   "pygments_lexer": "ipython3",
   "version": "3.7.3"
  }
 },
 "nbformat": 4,
 "nbformat_minor": 2
}
